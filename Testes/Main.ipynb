{
 "cells": [
  {
   "cell_type": "markdown",
   "metadata": {},
   "source": [
    "### 1.) Seleção de linguagem e bibliotecas BLAS.\n",
    "\n",
    "Nesta etapa deverão ser selecionadas linguagens e bibliotecas candidatas para o desenvolvimento. Deverá ser verificado se as escolhas suportam o desenvolvimento dos requisitos funcionais e não funcionais necessários.\n",
    "\n",
    "### 2.) Teste das operações básicas.\n",
    "Utilizar as bibliotecas selecionadas e realizar as operações básicas a seguir:\n",
    "MN = M * N\n",
    "aM = a * M\n",
    "Ma = M * a\n",
    "Estas operações são todas matriciais, envolvendo matrizes e vetores e devem seguir as regras da Álgebra Linear.\n",
    "Dados para teste:\n",
    "Dados.zip\n",
    "\n",
    "### 3.) Implementação do algoritmo CGNR.\n",
    "Codificar um protótipo com o Algoritmo CGNR. Validar os resultados com os dados experimentais.\n",
    "Medir o tempo total de execução e o consumo de recursos como memória e ocupação de CPU.\n",
    "\n",
    "### 4.) Testes de saturação e implementação de rotinas de controle.\n",
    "Realizar testes de saturação do sistema.\n",
    "Medir os recursos e projetar um algoritmo para controlar e evitar a saturação.\n",
    "\n",
    "\n"
   ]
  },
  {
   "cell_type": "markdown",
   "metadata": {},
   "source": [
    "# Seleção de linguagem e bibliotecas BLAS."
   ]
  },
  {
   "cell_type": "markdown",
   "metadata": {},
   "source": [
    "Opções de bibliotecas em Python para manipulação de Matrizes e Vetores:\n",
    "\n",
    "NumPy: biblioteca  eficiente e bastante usada para operações de matrizes e vetores, com suporte nativo à Álgebra Linear e sintaxe simples.\n",
    "SciPy: oferece funcionalidades avançadas de Álgebra Linear, como decomposições (LU, QR, SVD) e otimização, sendo complementar ao NumPy.\n",
    "SymPy: permite realizar cálculos exatos e simbólicos, ideal para manipulação teórica de matrizes e vetores em álgebra.\n",
    "TensorFlow: otimizada para grandes matrizes e vetores, com aceleração via GPU e funcionalidades de aprendizado de máquina.\n",
    "JAX: combina a simplicidade do NumPy com alta performance em GPUs/TPUs, oferecendo operações rápidas e diferenciação automática.\n",
    "\n",
    "https://blog.dsacademy.com.br/top-25-bibliotecas-python-para-data_science/#:~:text=O%20NumPy%20fornece%20v%C3%A1rios%20recursos,com%20matrizes%20de%20alto%20desempenho.\n",
    "\n",
    "listas e matriz com numpy: https://dev.to/iugstav/python-manipulacao-de-listas-e-matrizes-4bpj "
   ]
  },
  {
   "cell_type": "markdown",
   "metadata": {},
   "source": [
    "## Numpy Testes"
   ]
  },
  {
   "cell_type": "code",
   "execution_count": null,
   "metadata": {},
   "outputs": [],
   "source": [
    "import pandas as pd\n",
    "import numpy as np\n",
    "\n",
    "csv_M = \"Dados-Teste/M.csv\"\n",
    "csv_N = \"Dados-Teste/N.csv\"\n",
    "csv_a = \"Dados-Teste/a.csv\"\n",
    "\n",
    "M = pd.read_csv(csv_M, header=None, delimiter=\";\").to_numpy()\n",
    "N = pd.read_csv(csv_N, header=None, delimiter=\";\").to_numpy()\n",
    "a = pd.read_csv(csv_a, header=None, delimiter=\";\").to_numpy().flatten()\n",
    "\n",
    "# Operações com NumPy\n",
    "MN = np.dot(M, N)\n",
    "aM = np.dot(a, M)\n",
    "Ma = np.dot(M, a)\n",
    "\n",
    "# Resultados\n",
    "print(\"MN =\\n\", MN)\n",
    "print(\"aM =\\n\", aM)\n",
    "print(\"Ma =\\n\", Ma)\n",
    "\n",
    "# Salvar os resultados em novos CSVs\n",
    "np.savetxt(\"test-MN.csv\", MN, delimiter=\",\")\n",
    "np.savetxt(\"test-aM.csv\", aM, delimiter=\",\")\n",
    "np.savetxt(\"test-Ma.csv\", Ma, delimiter=\",\")\n"
   ]
  },
  {
   "cell_type": "code",
   "execution_count": 2,
   "metadata": {},
   "outputs": [],
   "source": [
    "import numpy\n",
    "\n",
    "\"\"\" \n",
    "g - Vetor de sinal\n",
    "H - Matriz de modelo\n",
    "f - Imagem\n",
    "S - Número de amostras do sinal\n",
    "N - Número de elementos sensores \n",
    "\"\"\"\n",
    "\n",
    "\n",
    "def CGNE(h,g,tam_image):\n",
    "    #Seguindo os passos do moodle\n",
    "    f = np.zeros((tam_image**2))\n",
    "    r = g - np.dot(h, f)\n",
    "    p = np.dot(np.transpose(h), r)\n",
    "    \n",
    "    erro = 1e-4\n",
    "    count = 0\n",
    "    # for i=0,1,...,until convergence\n",
    "    # for i in range(0,30):\n",
    "    while True:\n",
    "        rAnterior = r\n",
    "        # a = alfa\n",
    "        a = np.dot(np.transpose(r), r)/np.dot(np.transpose(p), p)\n",
    "        f = f + a*p\n",
    "        r = r - np.dot(a,np.dot(h, p))  \n",
    "        # b = beta\n",
    "        b = np.dot(np.transpose(r), r)/np.dot(np.transpose(rAnterior), rAnterior)\n",
    "        p = np.dot(np.transpose(h), r) + np.dot(b, p)\n"
   ]
  },
  {
   "cell_type": "code",
   "execution_count": null,
   "metadata": {},
   "outputs": [],
   "source": []
  }
 ],
 "metadata": {
  "kernelspec": {
   "display_name": "Python 3",
   "language": "python",
   "name": "python3"
  },
  "language_info": {
   "codemirror_mode": {
    "name": "ipython",
    "version": 3
   },
   "file_extension": ".py",
   "mimetype": "text/x-python",
   "name": "python",
   "nbconvert_exporter": "python",
   "pygments_lexer": "ipython3",
   "version": "3.11.5"
  }
 },
 "nbformat": 4,
 "nbformat_minor": 2
}
